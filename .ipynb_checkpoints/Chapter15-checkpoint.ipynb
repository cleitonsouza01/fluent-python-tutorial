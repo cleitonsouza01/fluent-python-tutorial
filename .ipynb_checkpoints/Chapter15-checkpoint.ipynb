{
 "cells": [
  {
   "cell_type": "markdown",
   "metadata": {},
   "source": [
    "# Context Managers and else Blocks\n",
    "\n",
    "## Else block\n",
    "The semantics of *for/else*, *while/else*, and *try/else* are closely related, but very different from if/else.\n",
    "\n",
    "- **for**: The else block will run only if and when the for loop runs to completion (i.e., not if the for is aborted with a break).\n",
    "- **while**: The else block will run only if and when the while loop exits because the condition became falsy (i.e., not when the while is aborted with a break).\n",
    "- **try**: The else block will only run if no exception is raised in the try block."
   ]
  },
  {
   "cell_type": "code",
   "execution_count": null,
   "metadata": {
    "collapsed": true
   },
   "outputs": [],
   "source": []
  }
 ],
 "metadata": {
  "anaconda-cloud": {},
  "kernelspec": {
   "display_name": "Python 3",
   "language": "python",
   "name": "python3"
  },
  "language_info": {
   "codemirror_mode": {
    "name": "ipython",
    "version": 3
   },
   "file_extension": ".py",
   "mimetype": "text/x-python",
   "name": "python",
   "nbconvert_exporter": "python",
   "pygments_lexer": "ipython3",
   "version": "3.6.0"
  }
 },
 "nbformat": 4,
 "nbformat_minor": 0
}
