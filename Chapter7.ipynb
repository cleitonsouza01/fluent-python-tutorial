{
 "cells": [
  {
   "cell_type": "markdown",
   "metadata": {},
   "source": [
    "# Function Decorators and Closures\n",
    "## Decorators 101\n",
    "\n",
    "A decorator is a callable that takes another function as argument (the decorated function). The decorator may perform some processing with the decorated function, and returns it or replaces it with another function or callable object.\n",
    "\n",
    "- The first crucial fact about decorators is that they have the power to replace the decorated function with a different one.\n",
    "- The second crucial fact is that they are executed immediately when a module is loaded. After calling import "
   ]
  },
  {
   "cell_type": "code",
   "execution_count": null,
   "metadata": {
    "collapsed": false
   },
   "outputs": [],
   "source": [
    "@decorate\n",
    "def target():\n",
    "    print('running target()')\n",
    "    \n",
    "def target():\n",
    "    print('running target()')\n",
    "\n",
    "target = decorate(target)"
   ]
  },
  {
   "cell_type": "code",
   "execution_count": 4,
   "metadata": {
    "collapsed": false
   },
   "outputs": [
    {
     "name": "stdout",
     "output_type": "stream",
     "text": [
      "running register(<function f1 at 0x10d0518c0>)\n",
      "running register(<function f2 at 0x10d0519b0>)\n",
      "running main()\n",
      "('registry ->', [<function f1 at 0x10d0518c0>, <function f2 at 0x10d0519b0>])\n",
      "running f1()\n",
      "running f2()\n",
      "running f3()\n"
     ]
    }
   ],
   "source": [
    "registry = []\n",
    "\n",
    "def register(func):\n",
    "    print('running register(%s)' % func) \n",
    "    registry.append(func) \n",
    "    return func\n",
    "\n",
    "@register\n",
    "def f1():\n",
    "    print('running f1()')\n",
    "\n",
    "@register \n",
    "def f2():\n",
    "    print('running f2()')\n",
    "\n",
    "def f3():\n",
    "    print('running f3()')\n",
    "\n",
    "def main():\n",
    "    print('running main()') \n",
    "    print('registry ->', registry) \n",
    "    f1() \n",
    "    f2() \n",
    "    f3()\n",
    "    \n",
    "if __name__=='__main__':\n",
    "    main()"
   ]
  },
  {
   "cell_type": "code",
   "execution_count": 5,
   "metadata": {
    "collapsed": false
   },
   "outputs": [
    {
     "name": "stdout",
     "output_type": "stream",
     "text": [
      "  2           0 LOAD_FAST                0 (a)\n",
      "              3 PRINT_ITEM          \n",
      "              4 PRINT_NEWLINE       \n",
      "              5 LOAD_CONST               0 (None)\n",
      "              8 RETURN_VALUE        \n"
     ]
    }
   ],
   "source": [
    "def f1(a):\n",
    "    print(a)\n",
    "\n",
    "from dis import dis\n",
    "dis(f1) # see the bytecode of the function"
   ]
  },
  {
   "cell_type": "markdown",
   "metadata": {},
   "source": [
    "# Decorators in Standard Library\n",
    "\n",
    "Python has 3 built-in functions that are designed to decorate methods: $property, classmethod, staticmethod$\n",
    "\n",
    "Example with functools.lru_cache"
   ]
  },
  {
   "cell_type": "code",
   "execution_count": null,
   "metadata": {
    "collapsed": false
   },
   "outputs": [],
   "source": [
    "import functools\n",
    "from clockdeco import clock\n",
    "\n",
    "@functools.lru_cache()\n",
    "@clock\n",
    "def fibonacci(n):\n",
    "    if n < 2:\n",
    "        return n \n",
    "    return fibonacci(n-2) + fibonacci(n-1)\n",
    "\n",
    "if __name__=='__main__':\n",
    "    %timeit print(fibonacci(30))"
   ]
  },
  {
   "cell_type": "markdown",
   "metadata": {},
   "source": [
    "## Stack Decorators"
   ]
  },
  {
   "cell_type": "code",
   "execution_count": null,
   "metadata": {
    "collapsed": false
   },
   "outputs": [],
   "source": [
    "@d1\n",
    "@d2\n",
    "def f():\n",
    "    print('f')\n",
    "    \n",
    "# is equal to\n",
    "def f():\n",
    "    print('f')\n",
    "    \n",
    "f = d1(d2(f))"
   ]
  }
 ],
 "metadata": {
  "kernelspec": {
   "display_name": "Python [conda root]",
   "language": "python",
   "name": "conda-root-py"
  },
  "language_info": {
   "codemirror_mode": {
    "name": "ipython",
    "version": 2
   },
   "file_extension": ".py",
   "mimetype": "text/x-python",
   "name": "python",
   "nbconvert_exporter": "python",
   "pygments_lexer": "ipython2",
   "version": "2.7.13"
  }
 },
 "nbformat": 4,
 "nbformat_minor": 0
}
